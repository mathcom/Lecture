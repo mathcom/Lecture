{
 "cells": [
  {
   "cell_type": "code",
   "execution_count": 1,
   "id": "bda44abe-f284-4e16-a7fc-af97743cabf5",
   "metadata": {},
   "outputs": [],
   "source": [
    "import psycopg\n",
    "from psycopg import sql"
   ]
  },
  {
   "cell_type": "code",
   "execution_count": 2,
   "id": "de45f38b-f6c1-4905-97eb-ba4cfa35428c",
   "metadata": {},
   "outputs": [],
   "source": [
    "HOST     = 'localhost'\n",
    "DBNAME   = 'mydbase'\n",
    "SCNAME   = 'myschema'\n",
    "USER     = 'myadmin'\n",
    "PASSWORD = 'qwer1234'"
   ]
  },
  {
   "cell_type": "code",
   "execution_count": 3,
   "id": "b2e742f2-3b65-495b-bbc9-26851c087f6c",
   "metadata": {},
   "outputs": [],
   "source": [
    "CONNECTION = f\"host={HOST} dbname={DBNAME} user={USER} password={PASSWORD}\""
   ]
  },
  {
   "cell_type": "markdown",
   "id": "12f7cdd1-d010-4bb4-b8f6-90919005115f",
   "metadata": {},
   "source": [
    "# Drop tables"
   ]
  },
  {
   "cell_type": "code",
   "execution_count": 4,
   "id": "7195568f-018d-4295-ac3d-8210d5c7d759",
   "metadata": {},
   "outputs": [],
   "source": [
    "with psycopg.connect(CONNECTION) as conn:\n",
    "\n",
    "    conn.execute(f'DROP TABLE IF EXISTS {SCNAME}.\"course\";')\n",
    "    conn.execute(f'DROP TABLE IF EXISTS {SCNAME}.\"instructor\";')\n",
    "    conn.execute(f'DROP TABLE IF EXISTS {SCNAME}.\"department\";')\n",
    "\n",
    "    conn.commit()"
   ]
  },
  {
   "cell_type": "markdown",
   "id": "9a5c10db-ed08-4210-9e21-ed938a62ca34",
   "metadata": {},
   "source": [
    "# Create tables"
   ]
  },
  {
   "cell_type": "code",
   "execution_count": 5,
   "id": "ede997f0-3d3d-4e18-a4d4-5801a14c0efb",
   "metadata": {},
   "outputs": [],
   "source": [
    "with psycopg.connect(CONNECTION) as conn:\n",
    "\n",
    "    conn.execute(\n",
    "        sql.SQL(\"\"\"\n",
    "            CREATE TABLE IF NOT EXISTS {table}(\n",
    "                \"dept_name\" VARCHAR(20),\n",
    "                \"building\" VARCHAR(15),\n",
    "                \"budget\" NUMERIC(12,2) CHECK (\"budget\" > 0),\n",
    "                PRIMARY KEY (\"dept_name\")\n",
    "            )\n",
    "        \"\"\").format(table = sql.Identifier(SCNAME, 'department'))\n",
    "    )\n",
    "\n",
    "    conn.commit()"
   ]
  },
  {
   "cell_type": "code",
   "execution_count": 6,
   "id": "79a6c32e-1cd6-4e98-8dbd-92baa7c21c26",
   "metadata": {},
   "outputs": [],
   "source": [
    "with psycopg.connect(CONNECTION) as conn:\n",
    "\n",
    "    conn.execute(\n",
    "        sql.SQL(\"\"\"\n",
    "            CREATE TABLE IF NOT EXISTS {table}(\n",
    "                \"course_id\" VARCHAR(8),\n",
    "                \"title\" VARCHAR(50),\n",
    "                \"dept_name\" VARCHAR(20),\n",
    "                \"credits\" NUMERIC(2,0) CHECK (\"credits\" > 0),\n",
    "                PRIMARY KEY (\"course_id\"),\n",
    "                FOREIGN KEY (\"dept_name\") REFERENCES {ref_table}({ref_col})\n",
    "                    ON DELETE SET NULL\n",
    "            )\n",
    "        \"\"\").format(table = sql.Identifier(SCNAME, 'course'),\n",
    "                    ref_table = sql.Identifier(SCNAME, 'department'),\n",
    "                    ref_col   = sql.Identifier('dept_name')\n",
    "    ))\n",
    "\n",
    "    conn.commit()"
   ]
  },
  {
   "cell_type": "code",
   "execution_count": 7,
   "id": "83bb88cc-ff1a-41f3-bfc6-efed44073263",
   "metadata": {},
   "outputs": [],
   "source": [
    "with psycopg.connect(CONNECTION) as conn:\n",
    "\n",
    "    conn.execute(\n",
    "        sql.SQL(\"\"\"\n",
    "            CREATE TABLE IF NOT EXISTS {table}(\n",
    "                {col1} VARCHAR(5),\n",
    "                {col2} VARCHAR(20) NOT NULL,\n",
    "                {col3} VARCHAR(20),\n",
    "                {col4} NUMERIC(8,2) CHECK ({col4} > 29000),\n",
    "                PRIMARY KEY ({col1}),\n",
    "                FOREIGN KEY ({col3}) REFERENCES {ref_table}({ref_col})\n",
    "                    ON DELETE SET NULL\n",
    "            )\n",
    "        \"\"\").format(table = sql.Identifier(SCNAME, 'instructor'),\n",
    "                    col1  = sql.Identifier('id'),\n",
    "                    col2  = sql.Identifier('name'),\n",
    "                    col3  = sql.Identifier('dept_name'),\n",
    "                    col4  = sql.Identifier('salary'),\n",
    "                    ref_table = sql.Identifier(SCNAME, 'department'),\n",
    "                    ref_col   = sql.Identifier('dept_name')\n",
    "    ))\n",
    "\n",
    "    conn.commit()"
   ]
  },
  {
   "cell_type": "code",
   "execution_count": 8,
   "id": "88b4da8b-b0e5-47bf-b244-780c9bbfb361",
   "metadata": {},
   "outputs": [
    {
     "name": "stdout",
     "output_type": "stream",
     "text": [
      "('course',)\n",
      "('department',)\n",
      "('instructor',)\n"
     ]
    }
   ],
   "source": [
    "with psycopg.connect(CONNECTION) as conn:\n",
    "\n",
    "    cur = conn.execute(\"\"\"\n",
    "        SELECT \"table_name\"\n",
    "        FROM \"information_schema\".\"tables\"\n",
    "        WHERE \"table_schema\" = %s\n",
    "        ORDER BY \"table_name\";\n",
    "    \"\"\", (SCNAME,))\n",
    "\n",
    "    records = cur.fetchall()\n",
    "    for r in records:\n",
    "        print(r)"
   ]
  },
  {
   "cell_type": "markdown",
   "id": "cb66539c-a12e-4f18-adec-4cd9281c7543",
   "metadata": {},
   "source": [
    "# Insert records (department)"
   ]
  },
  {
   "cell_type": "code",
   "execution_count": 9,
   "id": "0fce95df-da2d-4372-aeb1-83039aa70158",
   "metadata": {},
   "outputs": [],
   "source": [
    "with psycopg.connect(CONNECTION) as conn:\n",
    "\n",
    "    ## clear\n",
    "    conn.execute(sql.SQL(\"DELETE FROM {}\").format(sql.Identifier(SCNAME, 'department')))\n",
    "\n",
    "    ## prepared statement\n",
    "    query = sql.SQL(\"INSERT INTO {} VALUES (%s, %s, %s)\").format(sql.Identifier(SCNAME, 'department'))\n",
    "    \n",
    "    with conn.pipeline() as p:\n",
    "        conn.execute(query, ('Biology', 'Watson', '90000'))\n",
    "        conn.execute(query, ('Comp. Sci.', 'Taylor', '100000'))\n",
    "        conn.execute(query, ('Elec. Eng.', 'Taylor', '85000'))\n",
    "        conn.execute(query, ('Finance', 'Painter', '120000'))\n",
    "        conn.execute(query, ('History', 'Painter', '50000'))\n",
    "        conn.execute(query, ('Music', 'Packard', '80000'))\n",
    "        conn.execute(query, ('Physics', 'Watson', '70000'))\n",
    "\n",
    "    conn.commit()    "
   ]
  },
  {
   "cell_type": "code",
   "execution_count": 10,
   "id": "11a931fe-f13e-4490-9dc2-6fe879429405",
   "metadata": {},
   "outputs": [
    {
     "name": "stdout",
     "output_type": "stream",
     "text": [
      "('Biology', 'Watson', Decimal('90000.00'))\n",
      "('Comp. Sci.', 'Taylor', Decimal('100000.00'))\n",
      "('Elec. Eng.', 'Taylor', Decimal('85000.00'))\n",
      "('Finance', 'Painter', Decimal('120000.00'))\n",
      "('History', 'Painter', Decimal('50000.00'))\n",
      "('Music', 'Packard', Decimal('80000.00'))\n",
      "('Physics', 'Watson', Decimal('70000.00'))\n"
     ]
    }
   ],
   "source": [
    "with psycopg.connect(CONNECTION) as conn:\n",
    "    \n",
    "    cur = conn.execute(sql.SQL(\"SELECT * FROM {}\").format(sql.Identifier(SCNAME, 'department')))\n",
    "\n",
    "    records = cur.fetchall()\n",
    "    for r in records:\n",
    "        print(r)"
   ]
  },
  {
   "cell_type": "markdown",
   "id": "2257db7c-6ef6-4595-ba07-1769fbee3946",
   "metadata": {},
   "source": [
    "# Insert records (course)"
   ]
  },
  {
   "cell_type": "code",
   "execution_count": 11,
   "id": "ff4b344f-f9fb-4fd0-ad96-18fcaf9602c8",
   "metadata": {},
   "outputs": [],
   "source": [
    "with psycopg.connect(CONNECTION) as conn:\n",
    "\n",
    "    ## clear\n",
    "    conn.execute(sql.SQL(\"DELETE FROM {}\").format(sql.Identifier(SCNAME, 'course')))\n",
    "\n",
    "    ## prepared statement\n",
    "    query = sql.SQL(\"INSERT INTO {} VALUES ({})\").format(\n",
    "        sql.Identifier(SCNAME, 'course'),\n",
    "        sql.SQL(', ').join(sql.Placeholder() * 4)\n",
    "    )\n",
    "    \n",
    "    with conn.pipeline() as p:\n",
    "        conn.execute(query, ('BIO-101', 'Intro. to Biology', 'Biology', '4'))\n",
    "        conn.execute(query, ('BIO-301', 'Genetics', 'Biology', '4'))\n",
    "        conn.execute(query, ('BIO-399', 'Computational Biology', 'Biology', '3'))\n",
    "        conn.execute(query, ('CS-101', 'Intro. to Computer Science', 'Comp. Sci.', '4'))\n",
    "        conn.execute(query, ('CS-190', 'Game Design', 'Comp. Sci.', '4'))\n",
    "        conn.execute(query, ('CS-315', 'Robotics', 'Comp. Sci.', '3'))\n",
    "        conn.execute(query, ('CS-319', 'Image Processing', 'Comp. Sci.', '3'))\n",
    "        conn.execute(query, ('CS-347', 'Database System Concepts', 'Comp. Sci.', '3'))\n",
    "        conn.execute(query, ('EE-181', 'Intro. to Digital Systems', 'Elec. Eng.', '3'))\n",
    "        conn.execute(query, ('FIN-201', 'Investment Banking', 'Finance', '3'))\n",
    "        conn.execute(query, ('HIS-351', 'World History', 'History', '3'))\n",
    "        conn.execute(query, ('MU-199', 'Music Video Production', 'Music', '3'))\n",
    "        conn.execute(query, ('PHY-101', 'Physical Principles', 'Physics', '4'))\n",
    "\n",
    "    conn.commit()    "
   ]
  },
  {
   "cell_type": "code",
   "execution_count": 12,
   "id": "5634487c-6d0e-49d5-8360-fccb7fc7e12e",
   "metadata": {},
   "outputs": [
    {
     "name": "stdout",
     "output_type": "stream",
     "text": [
      "('BIO-101', 'Intro. to Biology', 'Biology', Decimal('4'))\n",
      "('BIO-301', 'Genetics', 'Biology', Decimal('4'))\n",
      "('BIO-399', 'Computational Biology', 'Biology', Decimal('3'))\n",
      "('CS-101', 'Intro. to Computer Science', 'Comp. Sci.', Decimal('4'))\n",
      "('CS-190', 'Game Design', 'Comp. Sci.', Decimal('4'))\n",
      "('CS-315', 'Robotics', 'Comp. Sci.', Decimal('3'))\n",
      "('CS-319', 'Image Processing', 'Comp. Sci.', Decimal('3'))\n",
      "('CS-347', 'Database System Concepts', 'Comp. Sci.', Decimal('3'))\n",
      "('EE-181', 'Intro. to Digital Systems', 'Elec. Eng.', Decimal('3'))\n",
      "('FIN-201', 'Investment Banking', 'Finance', Decimal('3'))\n",
      "('HIS-351', 'World History', 'History', Decimal('3'))\n",
      "('MU-199', 'Music Video Production', 'Music', Decimal('3'))\n",
      "('PHY-101', 'Physical Principles', 'Physics', Decimal('4'))\n"
     ]
    }
   ],
   "source": [
    "with psycopg.connect(CONNECTION) as conn:\n",
    "    \n",
    "    cur = conn.execute(sql.SQL(\"SELECT * FROM {}\").format(sql.Identifier(SCNAME, 'course')))\n",
    "\n",
    "    records = cur.fetchall()\n",
    "    for r in records:\n",
    "        print(r)"
   ]
  },
  {
   "cell_type": "markdown",
   "id": "dbaa06b3-b874-4126-b15f-c61a930244c1",
   "metadata": {},
   "source": [
    "# Insert records (instructor)"
   ]
  },
  {
   "cell_type": "code",
   "execution_count": 13,
   "id": "c21db7a2-3524-449b-a47e-39fb3772bb6b",
   "metadata": {},
   "outputs": [],
   "source": [
    "with psycopg.connect(CONNECTION) as conn:\n",
    "\n",
    "    ## clear\n",
    "    conn.execute(sql.SQL(\"DELETE FROM {}\").format(sql.Identifier(SCNAME, 'instructor')))\n",
    "\n",
    "    ## template\n",
    "    SQL_TEMPLATE_INSERT = \"INSERT INTO {0} ({1}) VALUES ({2})\"\n",
    "\n",
    "    ## columns\n",
    "    COLNAMES_INSTRUCTOR = ['id', 'name', 'dept_name', 'salary']\n",
    "\n",
    "    ## data\n",
    "    LIST_INSTRUCTOR_INFO = [\n",
    "        ('10101', 'Srinivasan', 'Comp. Sci.', '65000'),\n",
    "        ('12121', 'Wu', 'Finance', '90000'),\n",
    "        ('15151', 'Mozart', 'Music', '40000'),\n",
    "        ('22222', 'Einstein', 'Physics', '95000'),\n",
    "        ('32343', 'El Said', 'History', '60000'),\n",
    "        ('33456', 'Gold', 'Physics', '87000'),\n",
    "        ('45565', 'Katz', 'Comp. Sci.', '75000'),\n",
    "        ('58583', 'Califieri', 'History', '62000'),\n",
    "        ('76543', 'Singh', 'Finance', '80000'),\n",
    "        ('76766', 'Crick', 'Biology', '72000'),\n",
    "        ('83821', 'Brandt', 'Comp. Sci.', '92000'),\n",
    "        ('98345', 'Kim', 'Elec. Eng.', '80000'),\n",
    "    ]\n",
    "\n",
    "    ## prepared statement\n",
    "    query = sql.SQL(SQL_TEMPLATE_INSERT).format(\n",
    "        sql.Identifier(SCNAME, 'instructor'),\n",
    "        sql.SQL(', ').join(map(sql.Identifier, COLNAMES_INSTRUCTOR)),\n",
    "        sql.SQL(', ').join(sql.Placeholder() * len(COLNAMES_INSTRUCTOR))\n",
    "    )\n",
    "    \n",
    "    with conn.pipeline() as p:\n",
    "        for data in LIST_INSTRUCTOR_INFO:\n",
    "            conn.execute(query, data)\n",
    "\n",
    "    conn.commit()    "
   ]
  },
  {
   "cell_type": "code",
   "execution_count": 14,
   "id": "9c105080-4e7c-4fb7-a5f4-7382119f14f0",
   "metadata": {},
   "outputs": [
    {
     "name": "stdout",
     "output_type": "stream",
     "text": [
      "('10101', 'Srinivasan', 'Comp. Sci.', Decimal('65000.00'))\n",
      "('12121', 'Wu', 'Finance', Decimal('90000.00'))\n",
      "('15151', 'Mozart', 'Music', Decimal('40000.00'))\n",
      "('22222', 'Einstein', 'Physics', Decimal('95000.00'))\n",
      "('32343', 'El Said', 'History', Decimal('60000.00'))\n",
      "('33456', 'Gold', 'Physics', Decimal('87000.00'))\n",
      "('45565', 'Katz', 'Comp. Sci.', Decimal('75000.00'))\n",
      "('58583', 'Califieri', 'History', Decimal('62000.00'))\n",
      "('76543', 'Singh', 'Finance', Decimal('80000.00'))\n",
      "('76766', 'Crick', 'Biology', Decimal('72000.00'))\n",
      "('83821', 'Brandt', 'Comp. Sci.', Decimal('92000.00'))\n",
      "('98345', 'Kim', 'Elec. Eng.', Decimal('80000.00'))\n"
     ]
    }
   ],
   "source": [
    "with psycopg.connect(CONNECTION) as conn:\n",
    "    \n",
    "    cur = conn.execute(sql.SQL(\"SELECT * FROM {}\").format(sql.Identifier(SCNAME, 'instructor')))\n",
    "\n",
    "    records = cur.fetchall()\n",
    "    for r in records:\n",
    "        print(r)"
   ]
  },
  {
   "cell_type": "markdown",
   "id": "8f0d9e47-4960-46b4-885a-e9b2ad57b9a4",
   "metadata": {},
   "source": [
    "# Cartesian Product"
   ]
  },
  {
   "cell_type": "code",
   "execution_count": 15,
   "id": "c3989a53-5b4e-4a7d-8ab1-07d699264f71",
   "metadata": {},
   "outputs": [
    {
     "name": "stdout",
     "output_type": "stream",
     "text": [
      "('Crick', Decimal('72000.00'))\n",
      "('Katz', Decimal('75000.00'))\n",
      "('Singh', Decimal('80000.00'))\n",
      "('Kim', Decimal('80000.00'))\n",
      "('Gold', Decimal('87000.00'))\n",
      "('Wu', Decimal('90000.00'))\n",
      "('Brandt', Decimal('92000.00'))\n",
      "('Einstein', Decimal('95000.00'))\n"
     ]
    }
   ],
   "source": [
    "with psycopg.connect(CONNECTION) as conn:\n",
    "\n",
    "    query = sql.SQL(\"\"\"\n",
    "        SELECT DISTINCT T.{name}, T.{salary}\n",
    "        FROM {table_name} AS T, {table_name} AS S\n",
    "        WHERE T.{salary} > S.{salary} AND S.{dept_name} = %s\n",
    "        ORDER BY T.{salary}\n",
    "    \"\"\").format(\n",
    "        table_name = sql.Identifier(SCNAME, 'instructor'),\n",
    "        name       = sql.Identifier('name'),\n",
    "        salary     = sql.Identifier('salary'),\n",
    "        dept_name  = sql.Identifier('dept_name')\n",
    "    )\n",
    "\n",
    "    cur = conn.execute(query, ('Comp. Sci.', ))\n",
    "\n",
    "    for r in cur.fetchall():\n",
    "        print(r)"
   ]
  },
  {
   "cell_type": "markdown",
   "id": "fe3d21ee-dd21-46cd-a37f-2882e377540a",
   "metadata": {},
   "source": [
    "# String Operations"
   ]
  },
  {
   "cell_type": "code",
   "execution_count": 16,
   "id": "6c813952-67da-4621-8bfc-2f889fd369b3",
   "metadata": {},
   "outputs": [
    {
     "name": "stdout",
     "output_type": "stream",
     "text": [
      "('Srinivasan',)\n",
      "('Mozart',)\n",
      "('El Said',)\n",
      "('Katz',)\n",
      "('Califieri',)\n",
      "('Brandt',)\n"
     ]
    }
   ],
   "source": [
    "with psycopg.connect(CONNECTION) as conn:\n",
    "\n",
    "    query = sql.SQL(\"\"\"\n",
    "        SELECT {name}\n",
    "        FROM {instructor}\n",
    "        WHERE {name} LIKE %s\n",
    "    \"\"\").format(\n",
    "        name = sql.Identifier('name'),\n",
    "        instructor = sql.Identifier(SCNAME, 'instructor'),\n",
    "    )\n",
    "\n",
    "    for r in conn.execute(query, ('%%a%%', )).fetchall():\n",
    "        print(r)"
   ]
  },
  {
   "cell_type": "markdown",
   "id": "50c1a91f-93c6-4e5c-8a0d-fddc73196738",
   "metadata": {},
   "source": [
    "# Where Clause Predicates"
   ]
  },
  {
   "cell_type": "code",
   "execution_count": 17,
   "id": "b28f5177-02ef-4e74-b91c-211af3d93b9a",
   "metadata": {},
   "outputs": [
    {
     "name": "stdout",
     "output_type": "stream",
     "text": [
      "('Wu',)\n",
      "('Einstein',)\n",
      "('Brandt',)\n"
     ]
    }
   ],
   "source": [
    "with psycopg.connect(CONNECTION) as conn:\n",
    "\n",
    "    query = sql.SQL(\"\"\"\n",
    "        SELECT {name}\n",
    "        FROM {instructor}\n",
    "        WHERE {salary} BETWEEN %s AND %s\n",
    "    \"\"\").format(\n",
    "        name = sql.Identifier('name'),\n",
    "        instructor = sql.Identifier(SCNAME, 'instructor'),\n",
    "        salary = sql.Identifier('salary'),\n",
    "    )\n",
    "\n",
    "    for r in conn.execute(query, ('90000', 100000)):\n",
    "        print(r)    "
   ]
  },
  {
   "cell_type": "markdown",
   "id": "af208ce9-7d19-4c0d-9b5a-7212e1fb1f90",
   "metadata": {},
   "source": [
    "# Set Operations"
   ]
  },
  {
   "cell_type": "code",
   "execution_count": 18,
   "id": "a8d2d7fc-4681-4e14-98ce-3a2c80ae6043",
   "metadata": {},
   "outputs": [
    {
     "name": "stdout",
     "output_type": "stream",
     "text": [
      "('BIO-101', 'Intro. to Biology')\n",
      "('BIO-301', 'Genetics')\n",
      "('BIO-399', 'Computational Biology')\n",
      "('CS-101', 'Intro. to Computer Science')\n",
      "('CS-190', 'Game Design')\n",
      "('CS-315', 'Robotics')\n",
      "('CS-319', 'Image Processing')\n",
      "('CS-347', 'Database System Concepts')\n"
     ]
    }
   ],
   "source": [
    "with psycopg.connect(CONNECTION) as conn:\n",
    "\n",
    "    subquery1 = sql.SQL(\"\"\"\n",
    "        SELECT {course_id}, {title}\n",
    "        FROM {course}\n",
    "        WHERE {dept_name} = %s\n",
    "    \"\"\").format(\n",
    "        course_id = sql.Identifier('course_id'),\n",
    "        title = sql.Identifier('title'),\n",
    "        course = sql.Identifier(SCNAME, 'course'),\n",
    "        dept_name = sql.Identifier('dept_name')\n",
    "    )\n",
    "\n",
    "    subquery2 = sql.SQL(\"\"\"\n",
    "        SELECT {}\n",
    "        FROM {}\n",
    "        WHERE {} = %s\n",
    "    \"\"\").format(\n",
    "        sql.SQL(', ').join([sql.Identifier('course_id'), sql.Identifier('title')]),\n",
    "        sql.Identifier(SCNAME, 'course'),\n",
    "        sql.Identifier('dept_name')\n",
    "    )\n",
    "\n",
    "    query = sql.SQL('({}) UNION ({})').format(subquery1, subquery2)\n",
    "    query = sql.SQL('{} ORDER BY {}').format(query, sql.Identifier('course_id'))\n",
    "    \n",
    "    for r in conn.execute(query, ('Comp. Sci.', 'Biology')).fetchall():\n",
    "        print(r)"
   ]
  },
  {
   "cell_type": "markdown",
   "id": "ddc1c43b-80d7-4381-a444-b8f56ac4aaba",
   "metadata": {},
   "source": [
    "# Aggregate Functions"
   ]
  },
  {
   "cell_type": "code",
   "execution_count": 19,
   "id": "7e11d1f6-795f-45dd-b181-2a22c8d5423d",
   "metadata": {},
   "outputs": [
    {
     "name": "stdout",
     "output_type": "stream",
     "text": [
      "('Finance', Decimal('85000.000000000000'))\n",
      "('History', Decimal('61000.000000000000'))\n",
      "('Physics', Decimal('91000.000000000000'))\n",
      "('Music', Decimal('40000.000000000000'))\n",
      "('Comp. Sci.', Decimal('77333.333333333333'))\n",
      "('Biology', Decimal('72000.000000000000'))\n",
      "('Elec. Eng.', Decimal('80000.000000000000'))\n"
     ]
    }
   ],
   "source": [
    "with psycopg.connect(CONNECTION) as conn:\n",
    "\n",
    "    query = sql.SQL(\"\"\"\n",
    "        SELECT {dept_name}, AVG({salary}) AS {avg_salary}\n",
    "        FROM {instructor}\n",
    "        GROUP BY {dept_name}\n",
    "    \"\"\").format(\n",
    "        dept_name = sql.Identifier('dept_name'),\n",
    "        salary = sql.Identifier('salary'),\n",
    "        avg_salary = sql.Identifier('avg_salary'),\n",
    "        instructor = sql.Identifier(SCNAME, 'instructor'),\n",
    "    )\n",
    "    \n",
    "    for r in conn.execute(query).fetchall():\n",
    "        print(r)"
   ]
  },
  {
   "cell_type": "markdown",
   "id": "387188d6-d104-45ff-8fa3-565b8be6d3b4",
   "metadata": {},
   "source": [
    "# Nested subqueries"
   ]
  },
  {
   "cell_type": "code",
   "execution_count": 20,
   "id": "d1d84c0f-09c3-4886-8c0e-7ba682751832",
   "metadata": {},
   "outputs": [
    {
     "name": "stdout",
     "output_type": "stream",
     "text": [
      "('Crick', Decimal('72000.00'))\n",
      "('Katz', Decimal('75000.00'))\n",
      "('Kim', Decimal('80000.00'))\n",
      "('Singh', Decimal('80000.00'))\n",
      "('Gold', Decimal('87000.00'))\n",
      "('Wu', Decimal('90000.00'))\n",
      "('Brandt', Decimal('92000.00'))\n",
      "('Einstein', Decimal('95000.00'))\n"
     ]
    }
   ],
   "source": [
    "with psycopg.connect(CONNECTION) as conn:\n",
    "\n",
    "    query_sub = sql.SQL(\"\"\"\n",
    "        SELECT {salary}\n",
    "        FROM {instructor}\n",
    "        WHERE {dept_name} = %s\n",
    "    \"\"\").format(\n",
    "        salary = sql.Identifier('salary'),\n",
    "        instructor = sql.Identifier(SCNAME, 'instructor'),\n",
    "        dept_name = sql.Identifier('dept_name'),\n",
    "    )\n",
    "\n",
    "    query_main = sql.SQL(\"\"\"\n",
    "        SELECT {name}, {salary}\n",
    "        FROM {instructor}\n",
    "        WHERE {salary} > SOME({query_sub})\n",
    "        ORDER BY {salary}\n",
    "    \"\"\").format(\n",
    "        name = sql.Identifier('name'),\n",
    "        salary = sql.Identifier('salary'),\n",
    "        instructor = sql.Identifier(SCNAME, 'instructor'),\n",
    "        query_sub = query_sub\n",
    "    )\n",
    "\n",
    "    for r in conn.execute(query_main, ('Comp. Sci.', )):\n",
    "        print(r)"
   ]
  },
  {
   "cell_type": "markdown",
   "id": "243b94b9-17b2-4555-897e-cd81c95af5ef",
   "metadata": {},
   "source": [
    "# Delete records"
   ]
  },
  {
   "cell_type": "code",
   "execution_count": 21,
   "id": "ab647895-a940-4b1b-be52-ce56c22b294e",
   "metadata": {},
   "outputs": [],
   "source": [
    "with psycopg.connect(CONNECTION) as conn:\n",
    "\n",
    "    query_sub = sql.SQL(\"\"\"\n",
    "        SELECT AVG({salary})\n",
    "        FROM {instructor}\n",
    "    \"\"\").format(\n",
    "        salary = sql.Identifier('salary'),\n",
    "        instructor = sql.Identifier(SCNAME, 'instructor')\n",
    "    )\n",
    "\n",
    "    query_main = sql.SQL(\"\"\"\n",
    "        DELETE\n",
    "        FROM {instructor}\n",
    "        WHERE {salary} > ({query_sub})\n",
    "    \"\"\").format(\n",
    "        instructor = sql.Identifier(SCNAME, 'instructor'),\n",
    "        salary = sql.Identifier('salary'),\n",
    "        query_sub = query_sub\n",
    "    )\n",
    "\n",
    "    conn.execute(query_main)\n",
    "\n",
    "    conn.commit()"
   ]
  },
  {
   "cell_type": "code",
   "execution_count": 22,
   "id": "2ce21b39-5828-4616-bb37-ff2c76a300fb",
   "metadata": {},
   "outputs": [
    {
     "name": "stdout",
     "output_type": "stream",
     "text": [
      "('10101', 'Srinivasan', 'Comp. Sci.', Decimal('65000.00'))\n",
      "('15151', 'Mozart', 'Music', Decimal('40000.00'))\n",
      "('32343', 'El Said', 'History', Decimal('60000.00'))\n",
      "('58583', 'Califieri', 'History', Decimal('62000.00'))\n",
      "('76766', 'Crick', 'Biology', Decimal('72000.00'))\n"
     ]
    }
   ],
   "source": [
    "with psycopg.connect(CONNECTION) as conn:\n",
    "\n",
    "    query = sql.SQL(\"SELECT * FROM {}\").format(sql.Identifier(SCNAME, 'instructor'))\n",
    "    \n",
    "    for r in conn.execute(query).fetchall():\n",
    "        print(r)"
   ]
  },
  {
   "cell_type": "markdown",
   "id": "211630f2-7223-46ea-9488-71967cc83889",
   "metadata": {},
   "source": [
    "# Update records"
   ]
  },
  {
   "cell_type": "code",
   "execution_count": 23,
   "id": "c850fcda-b6c7-4068-bcaf-352625c74c20",
   "metadata": {},
   "outputs": [],
   "source": [
    "with psycopg.connect(CONNECTION) as conn:\n",
    "\n",
    "    query_sub = sql.SQL(\"\"\"\n",
    "        WHEN {0} <= 100000\n",
    "        THEN {0} * 1.05\n",
    "        ELSE {0} * 1.03\n",
    "    \"\"\").format(sql.Identifier('salary'))\n",
    "\n",
    "    query_main = sql.SQL(\"\"\"\n",
    "        UPDATE {instructor}\n",
    "        SET {salary} = CASE {query_sub} END\n",
    "    \"\"\").format(\n",
    "        instructor = sql.Identifier(SCNAME, 'instructor'),\n",
    "        salary = sql.Identifier('salary'),\n",
    "        query_sub = query_sub,\n",
    "    )\n",
    "\n",
    "    conn.execute(query_main)\n",
    "\n",
    "    conn.commit()"
   ]
  },
  {
   "cell_type": "code",
   "execution_count": 24,
   "id": "45dd4cc0-0442-4542-95c9-606ed6687307",
   "metadata": {},
   "outputs": [
    {
     "name": "stdout",
     "output_type": "stream",
     "text": [
      "('10101', 'Srinivasan', 'Comp. Sci.', Decimal('68250.00'))\n",
      "('15151', 'Mozart', 'Music', Decimal('42000.00'))\n",
      "('32343', 'El Said', 'History', Decimal('63000.00'))\n",
      "('58583', 'Califieri', 'History', Decimal('65100.00'))\n",
      "('76766', 'Crick', 'Biology', Decimal('75600.00'))\n"
     ]
    }
   ],
   "source": [
    "with psycopg.connect(CONNECTION) as conn:\n",
    "\n",
    "    query = sql.SQL(\"SELECT * FROM {}\").format(sql.Identifier(SCNAME, 'instructor'))\n",
    "    \n",
    "    for r in conn.execute(query).fetchall():\n",
    "        print(r)"
   ]
  },
  {
   "cell_type": "code",
   "execution_count": null,
   "id": "cb1080ef-fadf-49d0-a30f-cb000491afe6",
   "metadata": {},
   "outputs": [],
   "source": []
  }
 ],
 "metadata": {
  "kernelspec": {
   "display_name": "Python 3 (ipykernel)",
   "language": "python",
   "name": "python3"
  },
  "language_info": {
   "codemirror_mode": {
    "name": "ipython",
    "version": 3
   },
   "file_extension": ".py",
   "mimetype": "text/x-python",
   "name": "python",
   "nbconvert_exporter": "python",
   "pygments_lexer": "ipython3",
   "version": "3.11.5"
  }
 },
 "nbformat": 4,
 "nbformat_minor": 5
}
