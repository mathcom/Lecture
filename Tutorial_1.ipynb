{
 "cells": [
  {
   "cell_type": "code",
   "execution_count": 1,
   "id": "e343ea88-43d1-4ecf-97ba-64ea492f6f7f",
   "metadata": {},
   "outputs": [],
   "source": [
    "import psycopg"
   ]
  },
  {
   "cell_type": "code",
   "execution_count": 2,
   "id": "4bf0abd3-d650-437e-a609-e7cc84c6a637",
   "metadata": {},
   "outputs": [],
   "source": [
    "HOST     = 'localhost'\n",
    "DBNAME   = 'mydbase'\n",
    "USER     = 'myadmin'\n",
    "PASSWORD = 'qwer1234'"
   ]
  },
  {
   "cell_type": "code",
   "execution_count": 3,
   "id": "9cb150b7-6308-491a-86cd-1a41edd44a89",
   "metadata": {},
   "outputs": [],
   "source": [
    "CONNECTION = f\"host={HOST} dbname={DBNAME} user={USER} password={PASSWORD}\""
   ]
  },
  {
   "cell_type": "code",
   "execution_count": 4,
   "id": "bd5b4cc0-cc99-4131-b831-c911f9a9be99",
   "metadata": {},
   "outputs": [
    {
     "name": "stdout",
     "output_type": "stream",
     "text": [
      "(0, 'Park', 1, 'Seoul', '010-0000-0000')\n",
      "(1, 'Choi', 1, 'Chuncheon', '010-1111-1111')\n"
     ]
    }
   ],
   "source": [
    "## Connect to an existing database\n",
    "with psycopg.connect(CONNECTION) as conn:\n",
    "\n",
    "    ## Create a new table\n",
    "    conn.execute(\"\"\"\n",
    "        CREATE TABLE IF NOT EXISTS \"myschema\".\"ex_table\"(\n",
    "            \"num\" INTEGER NOT NULL,\n",
    "            \"name\" VARCHAR(20),\n",
    "            \"studentID\" INTEGER,\n",
    "            \"address\" VARCHAR(45),\n",
    "            \"phone\" VARCHAR(45),\n",
    "            CONSTRAINT ex_table_pkey PRIMARY KEY (num)\n",
    "        )\n",
    "    \"\"\")\n",
    "\n",
    "    ## Insert two records into the table\n",
    "    conn.execute(\"\"\"INSERT INTO \"myschema\".\"ex_table\" VALUES (0, 'Park', 01, 'Seoul', '010-0000-0000')\"\"\")\n",
    "    conn.execute(\"\"\"INSERT INTO \"myschema\".\"ex_table\" VALUES (1, 'Choi', 01, 'Chuncheon', '010-1111-1111')\"\"\")\n",
    "\n",
    "    ## Make the change to the database psersistent\n",
    "    conn.commit()\n",
    "        \n",
    "    ## Open a cursor to perform database operations\n",
    "    with conn.cursor() as cur:\n",
    "\n",
    "        ## Execute a command\n",
    "        cur.execute('SELECT * FROM \"myschema\".\"ex_table\"')\n",
    "\n",
    "        ## Obtain and print data as Python objects\n",
    "        record = cur.fetchone()\n",
    "        while record:\n",
    "            print(record)\n",
    "            record = cur.fetchone() # return None if the recordset is finished\n",
    "\n",
    "    ## Drop the table\n",
    "    conn.execute('DROP TABLE \"myschema\".\"ex_table\"')\n",
    "    conn.commit()"
   ]
  },
  {
   "cell_type": "code",
   "execution_count": 5,
   "id": "75f2f593-d4ea-4b9b-8fb7-c1096b45c045",
   "metadata": {},
   "outputs": [
    {
     "name": "stdout",
     "output_type": "stream",
     "text": [
      "(0, 'Hong', 1, 'Seoul', '010-2222-2222')\n",
      "(1, 'Lee', 2, 'Incheon', '010-3333-3333')\n"
     ]
    }
   ],
   "source": [
    "## Connect to an existing database\n",
    "with psycopg.connect(CONNECTION) as conn:\n",
    "\n",
    "    ## Create a new table\n",
    "    conn.execute(\"\"\"\n",
    "        CREATE TABLE IF NOT EXISTS \"myschema\".\"ex_table2\"(\n",
    "            \"num\" INTEGER NOT NULL,\n",
    "            \"name\" VARCHAR(20),\n",
    "            \"studentID\" INTEGER,\n",
    "            \"address\" VARCHAR(45),\n",
    "            \"phone\" VARCHAR(45),\n",
    "            CONSTRAINT ex_table_pkey PRIMARY KEY (num)\n",
    "        )\n",
    "    \"\"\")\n",
    "\n",
    "    ## Using pipeline, insert two records into the table\n",
    "    TEMPLATE_INSERT = \"\"\"INSERT INTO \"myschema\".\"ex_table2\" VALUES (%s, %s, %s, %s, %s)\"\"\"\n",
    "    with conn.pipeline() as p:\n",
    "        conn.execute(TEMPLATE_INSERT, (0, 'Hong', 1, 'Seoul', '010-2222-2222'))\n",
    "        conn.execute(TEMPLATE_INSERT, (1, 'Lee', 2, 'Incheon', '010-3333-3333'))\n",
    "\n",
    "    ## Make the change to the database psersistent\n",
    "    conn.commit()\n",
    "        \n",
    "    ## Open a cursor to perform database operations\n",
    "    with conn.cursor() as cur:\n",
    "\n",
    "        ## Execute a command\n",
    "        cur.execute('SELECT * FROM \"myschema\".\"ex_table2\"')\n",
    "\n",
    "        ## Obtain and print data as Python objects\n",
    "        records = cur.fetchall()\n",
    "        for record in records:\n",
    "            print(record)\n",
    "        \n",
    "    ## Drop the table\n",
    "    conn.execute('DROP TABLE \"myschema\".\"ex_table2\"')\n",
    "    conn.commit()"
   ]
  },
  {
   "cell_type": "code",
   "execution_count": null,
   "id": "d1aee687-1fa9-451f-a88b-f7f6639ff393",
   "metadata": {},
   "outputs": [],
   "source": []
  }
 ],
 "metadata": {
  "kernelspec": {
   "display_name": "Python 3 (ipykernel)",
   "language": "python",
   "name": "python3"
  },
  "language_info": {
   "codemirror_mode": {
    "name": "ipython",
    "version": 3
   },
   "file_extension": ".py",
   "mimetype": "text/x-python",
   "name": "python",
   "nbconvert_exporter": "python",
   "pygments_lexer": "ipython3",
   "version": "3.11.5"
  }
 },
 "nbformat": 4,
 "nbformat_minor": 5
}
